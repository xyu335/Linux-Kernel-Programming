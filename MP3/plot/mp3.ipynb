{
 "cells": [
  {
   "cell_type": "code",
   "execution_count": 76,
   "metadata": {},
   "outputs": [
    {
     "name": "stdout",
     "output_type": "stream",
     "text": [
      "hey\n"
     ]
    }
   ],
   "source": [
    "import os\n",
    "print \"hey\"\n",
    "import matplotlib\n",
    "import matplotlib.pyplot as plt\n",
    "%matplotlib inline  "
   ]
  },
  {
   "cell_type": "code",
   "execution_count": 77,
   "metadata": {},
   "outputs": [
    {
     "name": "stdout",
     "output_type": "stream",
     "text": [
      "['profile2.data', 'profile_N1.data', 'profile_N50.data', 'profile_N11.data', 'profile1.data', 'profile_N5.data', 'profile_N9.data', 'profile_N3.data', 'profile_N20.data', 'profile_N7.data']\n"
     ]
    }
   ],
   "source": [
    "directory = \"../data/\"\n",
    "files = os.listdir(directory)\n",
    "print files"
   ]
  },
  {
   "cell_type": "code",
   "execution_count": 78,
   "metadata": {},
   "outputs": [],
   "source": [
    "# fname = files[0]\n",
    "\n",
    "# fp = open(directory + fname, \"r+\")\n",
    "# utime = []\n",
    "# stime = []\n",
    "# major_pf = []\n",
    "# minor_pf = []\n",
    "\n",
    "# for line in fp:\n",
    "#     datas = line.strip().split(\" \")\n",
    "#     # datas = line\n",
    "#     if len(datas) != 4 or datas[0] == 'read':\n",
    "#         print datas\n",
    "#         continue # continue\n",
    "#     major_pf.append(int(datas[0]))\n",
    "#     minor_pf.append(int(datas[1]))\n",
    "#     utime.append(int(datas[2]))\n",
    "#     stime.append(int(datas[3]))\n",
    "\n",
    "# x_label = [0.05 * i for i in range(len(utime))]\n",
    "# #print utime\n"
   ]
  },
  {
   "cell_type": "code",
   "execution_count": 79,
   "metadata": {},
   "outputs": [],
   "source": [
    "# def save_helper(case, arg, tar_dir):\n",
    "#     tar_dir = './'\n",
    "#     sv_fname = 'case' + str(case) + ‘_’\n",
    "#     if (case == 2)\n",
    "    \n",
    "#     savefig(fname, dpi=None, facecolor='w', edgecolor='w',\n",
    "#         orientation='portrait', papertype=None, format=None,\n",
    "#         transparent=False, bbox_inches=None, pad_inches=0.1,\n",
    "#         frameon=None)\n"
   ]
  },
  {
   "cell_type": "code",
   "execution_count": 82,
   "metadata": {},
   "outputs": [],
   "source": [
    "# plot x-axis = N, y axis = metrics\n",
    "def paint(fn, plot_datas, mode):\n",
    "    \n",
    "    # print plot_datas[0]\n",
    "    \n",
    "    if mode == 1: # plot N - final result\n",
    "        #do\n",
    "        # print \"shape of array\", plot_datas[plot_datas.keys[0]].shape()\n",
    "        \n",
    "        \n",
    "        x_label = plot_datas.keys() #N\n",
    "        print \"this is tested N: \" + str(x_label)\n",
    "        range_limit = 9999999999\n",
    "        for i in x_label:\n",
    "            range_limit = min(range_limit, len(plot_datas[i][0]))\n",
    "        print \"range limit %d\" % range_limit\n",
    "        plot_data = []\n",
    "        \n",
    "        data_index = range_limit - 1\n",
    "        for typeindex in range(5):\n",
    "            plot_data.append([plot_datas[i][typeindex][data_index] for i in x_label ])\n",
    "        print plot_data\n",
    "        \n",
    "        plt.title(\"N - page fault\")\n",
    "        plt.plot( x_label, plot_data[0], \"r+\", x_label, plot_data[1], \"ro\")  # pg_flt - N \n",
    "        plt.xlabel(\"N\")\n",
    "        plt.ylabel(\"data-page fault happened at the end\")\n",
    "        plt.show()\n",
    "        \n",
    "        plt.title(\"N - cpu time\")\n",
    "        plt.plot( x_label, plot_data[2], 'g+', x_label, plot_data[3], 'go')\n",
    "        plt.xlabel(\"N\")\n",
    "        plt.ylabel(\"cpu time\")\n",
    "        plt.show()\n",
    "        \n",
    "        plt.title(\"N - cpu time relation\")\n",
    "        plt.plot( x_label, plot_data[4], 'b+')\n",
    "        plt.xlabel(\"N\")\n",
    "        plt.ylabel(\"cpu time ratio, utime/stime\")\n",
    "        plt.show()\n",
    "    else:\n",
    "        title1 = fn + \"- time - page fault\"\n",
    "        title2 = fn + \"- time - cput time\"\n",
    "        rang = len(plot_datas[0])\n",
    "        print rang\n",
    "        x_label = [0.05 * i for i in range(rang)]\n",
    "        \n",
    "        plt.title(title1)\n",
    "        plt.plot( x_label, plot_datas[0], \"r+\", x_label, plot_datas[1], \"ro\")  # pg_flt\n",
    "        plt.xlabel(\"time(s)\")\n",
    "        plt.ylabel(\"data-page fault\")\n",
    "        plt.show()\n",
    "#         plt.savefig('case12_' + fn + '.png', bbox_inches='tight')\n",
    "        \n",
    "#         plt.title(title2)\n",
    "#         plt.plot( x_label, plot_datas[2], 'g+', x_label, plot_datas[3], 'go')\n",
    "#         plt.xlabel(\"times(s)\")\n",
    "#         plt.ylabel(\"cpu time\")\n",
    "#         plt.show()\n",
    "        "
   ]
  },
  {
   "cell_type": "code",
   "execution_count": 83,
   "metadata": {
    "scrolled": false
   },
   "outputs": [
    {
     "name": "stdout",
     "output_type": "stream",
     "text": [
      "exp12:   2\n",
      "1005\n",
      "10015\n",
      "1008\n",
      "exp12:   1\n",
      "1006\n",
      "1007\n",
      "1005\n",
      "1348\n",
      "1006\n",
      "{1: 'profile1.data', 2: 'profile2.data'} fn_exp12\n",
      "1026\n"
     ]
    },
    {
     "data": {
      "image/png": "[encoded data removed]",
      "text/plain": [
       "<Figure size 432x288 with 1 Axes>"
      ]
     },
     "metadata": {
      "needs_background": "light"
     },
     "output_type": "display_data"
    },
    {
     "name": "stdout",
     "output_type": "stream",
     "text": [
      "1027\n"
     ]
    },
    {
     "data": {
      "image/png": "[encoded data removed]",
      "text/plain": [
       "<Figure size 432x288 with 1 Axes>"
      ]
     },
     "metadata": {
      "needs_background": "light"
     },
     "output_type": "display_data"
    },
    {
     "name": "stdout",
     "output_type": "stream",
     "text": [
      "this is tested N: [1, 3, 5, 7, 9, 11, 50, 20]\n",
      "range limit 1005\n",
      "[[52790, 150834, 251401, 351972, 454603, 555476, 1500850, 993396], [2, 0, 0, 0, 0, 0, 11883, 51275], [6, 20, 20, 56, 69, 70, 93, 126], [23, 68, 120, 146, 160, 229, 4160, 864], [0.2608695652173913, 0.29411764705882354, 0.16666666666666666, 0.3835616438356164, 0.43125, 0.3056768558951965, 0.02235576923076923, 0.14583333333333334]]\n"
     ]
    },
    {
     "data": {
      "image/png": "[encoded data removed]",
      "text/plain": [
       "<Figure size 432x288 with 1 Axes>"
      ]
     },
     "metadata": {
      "needs_background": "light"
     },
     "output_type": "display_data"
    },
    {
     "data": {
      "image/png": "[encoded data removed]",
      "text/plain": [
       "<Figure size 432x288 with 1 Axes>"
      ]
     },
     "metadata": {
      "needs_background": "light"
     },
     "output_type": "display_data"
    },
    {
     "data": {
      "image/png": "[encoded data removed]",
      "text/plain": [
       "<Figure size 432x288 with 1 Axes>"
      ]
     },
     "metadata": {
      "needs_background": "light"
     },
     "output_type": "display_data"
    },
    {
     "name": "stdout",
     "output_type": "stream",
     "text": [
      "finished\n"
     ]
    }
   ],
   "source": [
    "# for N iterations: \n",
    "\n",
    "def readData(data, directory, fn):\n",
    "    fp = open(directory + fn, \"r+\")\n",
    "    data.append([]) # minor fault\n",
    "    data.append([]) # major fault\n",
    "    data.append([]) # utime\n",
    "    data.append([]) # stime\n",
    "    data.append([]) # efficiency\n",
    "    # print data\n",
    "    for line in fp:\n",
    "        data_line = line.strip().split(\" \")\n",
    "        # datas = line\n",
    "        if len(data_line) != 4 or data_line[0] == 'read' or data_line[0] == 'file':\n",
    "            # print data_line\n",
    "            continue # continue\n",
    "        data[0].append(int(data_line[0]))\n",
    "        data[1].append(int(data_line[1]))\n",
    "        data[2].append(int(data_line[2]))\n",
    "        data[3].append(int(data_line[3]))\n",
    "        data[4].append(float (data[2][-1]) / data[3][-1])\n",
    "    \n",
    "    # print \"data read finished for file %s, %d lines of data read in \" % (fn, len(data[4]))\n",
    "    fp.close()\n",
    "\n",
    "\n",
    "fnames = []\n",
    "datas_exp3 = {} # N related\n",
    "fn_exp3 = {}\n",
    "datas_exp12 = {} # experiments\n",
    "fn_exp12 = {}\n",
    "\n",
    "for f in files:\n",
    "    index = f.find(\"N\")\n",
    "    if index != -1:\n",
    "        s = f[index:]\n",
    "        s = s.split(\".\")[0][1:]\n",
    "        # print \"N = \" + s # N\n",
    "        N = int(s)\n",
    "        data = []\n",
    "        datas_exp3[N] = data\n",
    "        fn_exp3[N] = f\n",
    "        readData(data, directory, f)\n",
    "        print len(datas_exp3[N][0]) # test\n",
    "    else:  # experiment 1 & 2\n",
    "        N = int(f.split(\".\")[0][-1])\n",
    "        print 'exp12:  ', N\n",
    "        data = []\n",
    "        datas_exp12[N] = data\n",
    "        fn_exp12[N] = f\n",
    "        readData(data, directory, f)\n",
    "    \n",
    "def paint_tool(exp, idx, mode):\n",
    "    if exp == 3:\n",
    "        if mode == 1: # print N relation\n",
    "            paint(fn_exp3, datas_exp3, mode)\n",
    "        else:\n",
    "            paint(fn_exp3[idx], datas_exp3[idx], mode)\n",
    "    else: # exp == 1\n",
    "        paint(fn_exp12[idx], datas_exp12[idx], 0)\n",
    "\n",
    "# experiment 3, N = 5\n",
    "# paint_tool(3, 5, 0)\n",
    "\n",
    "# experiment 1,2 \n",
    "print fn_exp12, 'fn_exp12'\n",
    "paint_tool(1, 1, 0)\n",
    "paint_tool(1, 2, 0) # run the second experiment\n",
    "\n",
    "# experiment 3, N = 3 5 111，\n",
    "paint_tool(3, 0, 1)\n",
    "\n",
    "print \"finished\" "
   ]
  },
  {
   "cell_type": "code",
   "execution_count": 41,
   "metadata": {
    "scrolled": true
   },
   "outputs": [],
   "source": [
    "# plt.title(file)\n",
    "# plt.plot( x_label, major_pf, \"go\", x_label, minor_pf, \"g+\")\n",
    "# plt.xlabel(\"time\")\n",
    "# plt.ylabel(\"data-page fault\")\n",
    "# plt.show()\n",
    "# plt.plot(x_label, utime, \"ro\", x_label, stime, \"rx\")\n",
    "# plt.xlabel(\"time\")\n",
    "# plt.ylabel(\"data-cputime\")\n",
    "# plt.title(file)\n",
    "# plt.show()"
   ]
  },
  {
   "cell_type": "code",
   "execution_count": 12,
   "metadata": {},
   "outputs": [
    {
     "name": "stdout",
     "output_type": "stream",
     "text": [
      "0.5\n"
     ]
    }
   ],
   "source": [
    "a = int('10')\n",
    "b = int('20')\n",
    "c = float(a)/ b\n",
    "type(c)\n",
    "print c "
   ]
  },
  {
   "cell_type": "code",
   "execution_count": null,
   "metadata": {},
   "outputs": [],
   "source": []
  }
 ],
 "metadata": {
  "kernelspec": {
   "display_name": "Python 2",
   "language": "python",
   "name": "python2"
  },
  "language_info": {
   "codemirror_mode": {
    "name": "ipython",
    "version": 2
   },
   "file_extension": ".py",
   "mimetype": "text/x-python",
   "name": "python",
   "nbconvert_exporter": "python",
   "pygments_lexer": "ipython2",
   "version": "2.7.15"
  }
 },
 "nbformat": 4,
 "nbformat_minor": 2
}
